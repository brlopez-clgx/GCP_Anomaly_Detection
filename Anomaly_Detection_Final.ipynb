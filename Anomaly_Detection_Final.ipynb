{
 "cells": [
  {
   "cell_type": "markdown",
   "id": "76025191-0986-4c74-a614-a6ec4df0233d",
   "metadata": {},
   "source": [
    "# Anomaly Detection Final"
   ]
  },
  {
   "cell_type": "code",
   "execution_count": 59,
   "id": "8269f1ff-ff36-4633-a9ef-f2aea8eb76a6",
   "metadata": {
    "tags": []
   },
   "outputs": [
    {
     "name": "stdout",
     "output_type": "stream",
     "text": [
      "Requirement already satisfied: pandas-gbq in /opt/conda/lib/python3.10/site-packages (0.23.1)\n",
      "Requirement already satisfied: setuptools in /opt/conda/lib/python3.10/site-packages (from pandas-gbq) (70.1.1)\n",
      "Requirement already satisfied: db-dtypes<2.0.0,>=1.0.4 in /opt/conda/lib/python3.10/site-packages (from pandas-gbq) (1.2.0)\n",
      "Requirement already satisfied: numpy>=1.16.6 in /opt/conda/lib/python3.10/site-packages (from pandas-gbq) (1.24.4)\n",
      "Requirement already satisfied: pandas>=1.1.4 in /opt/conda/lib/python3.10/site-packages (from pandas-gbq) (2.0.3)\n",
      "Requirement already satisfied: pyarrow>=3.0.0 in /opt/conda/lib/python3.10/site-packages (from pandas-gbq) (9.0.0)\n",
      "Requirement already satisfied: pydata-google-auth>=1.5.0 in /opt/conda/lib/python3.10/site-packages (from pandas-gbq) (1.8.2)\n",
      "Requirement already satisfied: google-api-core<3.0.0dev,>=2.10.2 in /opt/conda/lib/python3.10/site-packages (from pandas-gbq) (2.11.1)\n",
      "Requirement already satisfied: google-auth>=2.13.0 in /opt/conda/lib/python3.10/site-packages (from pandas-gbq) (2.31.0)\n",
      "Requirement already satisfied: google-auth-oauthlib>=0.7.0 in /opt/conda/lib/python3.10/site-packages (from pandas-gbq) (1.2.1)\n",
      "Requirement already satisfied: google-cloud-bigquery<4.0.0dev,>=3.3.5 in /opt/conda/lib/python3.10/site-packages (from pandas-gbq) (3.25.0)\n",
      "Requirement already satisfied: packaging>=20.0.0 in /opt/conda/lib/python3.10/site-packages (from pandas-gbq) (24.1)\n",
      "Requirement already satisfied: googleapis-common-protos<2.0.dev0,>=1.56.2 in /opt/conda/lib/python3.10/site-packages (from google-api-core<3.0.0dev,>=2.10.2->pandas-gbq) (1.63.2)\n",
      "Requirement already satisfied: protobuf!=3.20.0,!=3.20.1,!=4.21.0,!=4.21.1,!=4.21.2,!=4.21.3,!=4.21.4,!=4.21.5,<5.0.0.dev0,>=3.19.5 in /opt/conda/lib/python3.10/site-packages (from google-api-core<3.0.0dev,>=2.10.2->pandas-gbq) (3.20.3)\n",
      "Requirement already satisfied: requests<3.0.0.dev0,>=2.18.0 in /opt/conda/lib/python3.10/site-packages (from google-api-core<3.0.0dev,>=2.10.2->pandas-gbq) (2.32.3)\n",
      "Requirement already satisfied: cachetools<6.0,>=2.0.0 in /opt/conda/lib/python3.10/site-packages (from google-auth>=2.13.0->pandas-gbq) (4.2.4)\n",
      "Requirement already satisfied: pyasn1-modules>=0.2.1 in /opt/conda/lib/python3.10/site-packages (from google-auth>=2.13.0->pandas-gbq) (0.4.0)\n",
      "Requirement already satisfied: rsa<5,>=3.1.4 in /opt/conda/lib/python3.10/site-packages (from google-auth>=2.13.0->pandas-gbq) (4.9)\n",
      "Requirement already satisfied: requests-oauthlib>=0.7.0 in /opt/conda/lib/python3.10/site-packages (from google-auth-oauthlib>=0.7.0->pandas-gbq) (2.0.0)\n",
      "Requirement already satisfied: google-cloud-core<3.0.0dev,>=1.6.0 in /opt/conda/lib/python3.10/site-packages (from google-cloud-bigquery<4.0.0dev,>=3.3.5->pandas-gbq) (2.4.1)\n",
      "Requirement already satisfied: google-resumable-media<3.0dev,>=0.6.0 in /opt/conda/lib/python3.10/site-packages (from google-cloud-bigquery<4.0.0dev,>=3.3.5->pandas-gbq) (2.7.1)\n",
      "Requirement already satisfied: python-dateutil<3.0dev,>=2.7.2 in /opt/conda/lib/python3.10/site-packages (from google-cloud-bigquery<4.0.0dev,>=3.3.5->pandas-gbq) (2.9.0)\n",
      "Requirement already satisfied: pytz>=2020.1 in /opt/conda/lib/python3.10/site-packages (from pandas>=1.1.4->pandas-gbq) (2024.1)\n",
      "Requirement already satisfied: tzdata>=2022.1 in /opt/conda/lib/python3.10/site-packages (from pandas>=1.1.4->pandas-gbq) (2024.1)\n",
      "Requirement already satisfied: grpcio<2.0dev,>=1.33.2 in /opt/conda/lib/python3.10/site-packages (from google-api-core[grpc]!=2.0.*,!=2.1.*,!=2.10.*,!=2.2.*,!=2.3.*,!=2.4.*,!=2.5.*,!=2.6.*,!=2.7.*,!=2.8.*,!=2.9.*,<3.0.0dev,>=1.34.1->google-cloud-bigquery<4.0.0dev,>=3.3.5->pandas-gbq) (1.48.0)\n",
      "Requirement already satisfied: grpcio-status<2.0.dev0,>=1.33.2 in /opt/conda/lib/python3.10/site-packages (from google-api-core[grpc]!=2.0.*,!=2.1.*,!=2.10.*,!=2.2.*,!=2.3.*,!=2.4.*,!=2.5.*,!=2.6.*,!=2.7.*,!=2.8.*,!=2.9.*,<3.0.0dev,>=1.34.1->google-cloud-bigquery<4.0.0dev,>=3.3.5->pandas-gbq) (1.48.0)\n",
      "Requirement already satisfied: google-crc32c<2.0dev,>=1.0 in /opt/conda/lib/python3.10/site-packages (from google-resumable-media<3.0dev,>=0.6.0->google-cloud-bigquery<4.0.0dev,>=3.3.5->pandas-gbq) (1.5.0)\n",
      "Requirement already satisfied: pyasn1<0.7.0,>=0.4.6 in /opt/conda/lib/python3.10/site-packages (from pyasn1-modules>=0.2.1->google-auth>=2.13.0->pandas-gbq) (0.6.0)\n",
      "Requirement already satisfied: six>=1.5 in /opt/conda/lib/python3.10/site-packages (from python-dateutil<3.0dev,>=2.7.2->google-cloud-bigquery<4.0.0dev,>=3.3.5->pandas-gbq) (1.16.0)\n",
      "Requirement already satisfied: charset-normalizer<4,>=2 in /opt/conda/lib/python3.10/site-packages (from requests<3.0.0.dev0,>=2.18.0->google-api-core<3.0.0dev,>=2.10.2->pandas-gbq) (3.3.2)\n",
      "Requirement already satisfied: idna<4,>=2.5 in /opt/conda/lib/python3.10/site-packages (from requests<3.0.0.dev0,>=2.18.0->google-api-core<3.0.0dev,>=2.10.2->pandas-gbq) (3.7)\n",
      "Requirement already satisfied: urllib3<3,>=1.21.1 in /opt/conda/lib/python3.10/site-packages (from requests<3.0.0.dev0,>=2.18.0->google-api-core<3.0.0dev,>=2.10.2->pandas-gbq) (1.26.19)\n",
      "Requirement already satisfied: certifi>=2017.4.17 in /opt/conda/lib/python3.10/site-packages (from requests<3.0.0.dev0,>=2.18.0->google-api-core<3.0.0dev,>=2.10.2->pandas-gbq) (2024.7.4)\n",
      "Requirement already satisfied: oauthlib>=3.0.0 in /opt/conda/lib/python3.10/site-packages (from requests-oauthlib>=0.7.0->google-auth-oauthlib>=0.7.0->pandas-gbq) (3.2.2)\n",
      "Requirement already satisfied: shap in /opt/conda/lib/python3.10/site-packages (0.46.0)\n",
      "Requirement already satisfied: numpy in /opt/conda/lib/python3.10/site-packages (from shap) (1.24.4)\n",
      "Requirement already satisfied: scipy in /opt/conda/lib/python3.10/site-packages (from shap) (1.11.4)\n",
      "Requirement already satisfied: scikit-learn in /opt/conda/lib/python3.10/site-packages (from shap) (1.5.1)\n",
      "Requirement already satisfied: pandas in /opt/conda/lib/python3.10/site-packages (from shap) (2.0.3)\n",
      "Requirement already satisfied: tqdm>=4.27.0 in /opt/conda/lib/python3.10/site-packages (from shap) (4.66.4)\n",
      "Requirement already satisfied: packaging>20.9 in /opt/conda/lib/python3.10/site-packages (from shap) (24.1)\n",
      "Requirement already satisfied: slicer==0.0.8 in /opt/conda/lib/python3.10/site-packages (from shap) (0.0.8)\n",
      "Requirement already satisfied: numba in /opt/conda/lib/python3.10/site-packages (from shap) (0.58.1)\n",
      "Requirement already satisfied: cloudpickle in /opt/conda/lib/python3.10/site-packages (from shap) (2.2.1)\n",
      "Requirement already satisfied: llvmlite<0.42,>=0.41.0dev0 in /opt/conda/lib/python3.10/site-packages (from numba->shap) (0.41.1)\n",
      "Requirement already satisfied: python-dateutil>=2.8.2 in /opt/conda/lib/python3.10/site-packages (from pandas->shap) (2.9.0)\n",
      "Requirement already satisfied: pytz>=2020.1 in /opt/conda/lib/python3.10/site-packages (from pandas->shap) (2024.1)\n",
      "Requirement already satisfied: tzdata>=2022.1 in /opt/conda/lib/python3.10/site-packages (from pandas->shap) (2024.1)\n",
      "Requirement already satisfied: joblib>=1.2.0 in /opt/conda/lib/python3.10/site-packages (from scikit-learn->shap) (1.4.2)\n",
      "Requirement already satisfied: threadpoolctl>=3.1.0 in /opt/conda/lib/python3.10/site-packages (from scikit-learn->shap) (3.5.0)\n",
      "Requirement already satisfied: six>=1.5 in /opt/conda/lib/python3.10/site-packages (from python-dateutil>=2.8.2->pandas->shap) (1.16.0)\n"
     ]
    }
   ],
   "source": [
    "# Import libraries\n",
    "!pip install pandas-gbq\n",
    "!pip install shap\n",
    "import shap\n",
    "import warnings\n",
    "warnings.simplefilter(action='ignore', category=FutureWarning)\n",
    "from google.cloud import bigquery \n",
    "import pandas as pd \n",
    "import numpy as np\n",
    "from sklearn.ensemble import IsolationForest "
   ]
  },
  {
   "cell_type": "code",
   "execution_count": 60,
   "id": "ca6a551b-fd76-434b-b037-ee478f1381f0",
   "metadata": {
    "tags": []
   },
   "outputs": [],
   "source": [
    "# Initialize connection \n",
    "project = !gcloud config get-value project\n",
    "project_id = project[0]\n",
    "bq = bigquery.Client(project = project_id)"
   ]
  },
  {
   "cell_type": "markdown",
   "id": "30f64577-9158-4af0-917a-2aa6fd96d115",
   "metadata": {},
   "source": [
    "## Feature Engineering/Processing"
   ]
  },
  {
   "cell_type": "code",
   "execution_count": 61,
   "id": "19fc12b0-fb93-41f9-9c7c-6249a9d820b6",
   "metadata": {
    "tags": []
   },
   "outputs": [
    {
     "name": "stderr",
     "output_type": "stream",
     "text": [
      "/opt/conda/lib/python3.10/site-packages/google/cloud/bigquery/table.py:2309: UserWarning: Unable to represent RANGE schema as struct using pandas ArrowDtype. Using `object` instead. To use ArrowDtype, use pandas >= 1.5 and pyarrow >= 10.0.1.\n",
      "  warnings.warn(_RANGE_PYARROW_WARNING)\n",
      "/opt/conda/lib/python3.10/site-packages/google/cloud/bigquery/table.py:2323: UserWarning: Unable to represent RANGE schema as struct using pandas ArrowDtype. Using `object` instead. To use ArrowDtype, use pandas >= 1.5 and pyarrow >= 10.0.1.\n",
      "  warnings.warn(_RANGE_PYARROW_WARNING)\n",
      "/opt/conda/lib/python3.10/site-packages/google/cloud/bigquery/table.py:2337: UserWarning: Unable to represent RANGE schema as struct using pandas ArrowDtype. Using `object` instead. To use ArrowDtype, use pandas >= 1.5 and pyarrow >= 10.0.1.\n",
      "  warnings.warn(_RANGE_PYARROW_WARNING)\n"
     ]
    },
    {
     "data": {
      "text/html": [
       "<div>\n",
       "<style scoped>\n",
       "    .dataframe tbody tr th:only-of-type {\n",
       "        vertical-align: middle;\n",
       "    }\n",
       "\n",
       "    .dataframe tbody tr th {\n",
       "        vertical-align: top;\n",
       "    }\n",
       "\n",
       "    .dataframe thead th {\n",
       "        text-align: right;\n",
       "    }\n",
       "</style>\n",
       "<table border=\"1\" class=\"dataframe\">\n",
       "  <thead>\n",
       "    <tr style=\"text-align: right;\">\n",
       "      <th></th>\n",
       "      <th>invoice_date</th>\n",
       "      <th>service_description</th>\n",
       "      <th>sku_description</th>\n",
       "      <th>project_id</th>\n",
       "      <th>business_unit</th>\n",
       "      <th>cost</th>\n",
       "    </tr>\n",
       "  </thead>\n",
       "  <tbody>\n",
       "    <tr>\n",
       "      <th>0</th>\n",
       "      <td>2023-10-19</td>\n",
       "      <td>Cloud Scheduler</td>\n",
       "      <td>Jobs</td>\n",
       "      <td>clgx-surveillance-prd-f609</td>\n",
       "      <td>None</td>\n",
       "      <td>0.002290</td>\n",
       "    </tr>\n",
       "    <tr>\n",
       "      <th>1</th>\n",
       "      <td>2023-10-19</td>\n",
       "      <td>Cloud Storage</td>\n",
       "      <td>Upload</td>\n",
       "      <td>clgx-surveillance-reg-ec2c</td>\n",
       "      <td>None</td>\n",
       "      <td>0.000000</td>\n",
       "    </tr>\n",
       "    <tr>\n",
       "      <th>2</th>\n",
       "      <td>2023-10-19</td>\n",
       "      <td>BigQuery</td>\n",
       "      <td>Analysis</td>\n",
       "      <td>clgx-surveillance-dr-66e6</td>\n",
       "      <td>None</td>\n",
       "      <td>0.885941</td>\n",
       "    </tr>\n",
       "    <tr>\n",
       "      <th>3</th>\n",
       "      <td>2023-10-19</td>\n",
       "      <td>BigQuery</td>\n",
       "      <td>Analysis</td>\n",
       "      <td>clgx-surveillance-reg-ec2c</td>\n",
       "      <td>None</td>\n",
       "      <td>0.002875</td>\n",
       "    </tr>\n",
       "    <tr>\n",
       "      <th>4</th>\n",
       "      <td>2023-10-19</td>\n",
       "      <td>BigQuery</td>\n",
       "      <td>Analysis</td>\n",
       "      <td>clgx-surveillance-np-reg-ccfe</td>\n",
       "      <td>None</td>\n",
       "      <td>0.742937</td>\n",
       "    </tr>\n",
       "  </tbody>\n",
       "</table>\n",
       "</div>"
      ],
      "text/plain": [
       "  invoice_date service_description sku_description  \\\n",
       "0   2023-10-19     Cloud Scheduler            Jobs   \n",
       "1   2023-10-19       Cloud Storage          Upload   \n",
       "2   2023-10-19            BigQuery        Analysis   \n",
       "3   2023-10-19            BigQuery        Analysis   \n",
       "4   2023-10-19            BigQuery        Analysis   \n",
       "\n",
       "                      project_id business_unit      cost  \n",
       "0     clgx-surveillance-prd-f609          None  0.002290  \n",
       "1     clgx-surveillance-reg-ec2c          None  0.000000  \n",
       "2      clgx-surveillance-dr-66e6          None  0.885941  \n",
       "3     clgx-surveillance-reg-ec2c          None  0.002875  \n",
       "4  clgx-surveillance-np-reg-ccfe          None  0.742937  "
      ]
     },
     "execution_count": 61,
     "metadata": {},
     "output_type": "execute_result"
    }
   ],
   "source": [
    "# Read dataset in from Big Query -> To Do: Change data source for productionizing\n",
    "dataset = 'ltaylor'\n",
    "table = 'Cost_02_Copy_2'\n",
    "query = f\"\"\"\n",
    "SELECT * \n",
    "FROM `{project_id}.{dataset}.{table}`\n",
    "\"\"\"\n",
    "df = bq.query(query = query).to_dataframe()\n",
    "df.head()"
   ]
  },
  {
   "cell_type": "code",
   "execution_count": 62,
   "id": "69088e10-f68b-4e3f-babc-3e349e9260e6",
   "metadata": {},
   "outputs": [],
   "source": [
    "# Preprocessing\n",
    "\n",
    "# Aggregatelower cost skus together as \"Other\"\n",
    "skus =  ['Coldline Storage US Multi-region','Standard Storage US Multi-region', 'Active Logical Storage','Analysis',\n",
    "                     'Long Term Logical Storage', 'Nearline Storage US Multi-region' , 'Archive Storage US Multi-region',\n",
    "             'Archive Storage US Multi-region (Early Delete)','Archive Data Retrieval']\n",
    "df['sku_description'] = [j if j in skus else 'Other' for j in df['sku_description']]\n",
    "\n",
    "# Aggregate daily costs by sku description and project id\n",
    "agg_df = df.groupby(['invoice_date','sku_description','project_id']).sum('cost').sort_values(['invoice_date','sku_description','project_id'])\n",
    "agg_df = pd.DataFrame(agg_df).reset_index()\n",
    "agg_df['invoice_date'] = agg_df['invoice_date'].astype(str)\n",
    "\n",
    "# Create rolling median feature\n",
    "date_sum = agg_df.groupby('invoice_date')['cost'].sum()\n",
    "roll_med = date_sum.rolling(window=30, min_periods=1).median() \n",
    "# If cost greater than rolling median 1 else 0\n",
    "agg_df['greater_than'] = [1 if (agg_df['cost'][i]) > roll_med[agg_df['invoice_date'][i]] and roll_med[agg_df['invoice_date'][i]] > 200 else 0 for i in range(len(agg_df))]\n",
    "\n",
    "# Convert column to datetime\n",
    "agg_df['invoice_date'] = pd.to_datetime(agg_df['invoice_date'])\n",
    "\n",
    "# One-hot encode columns\n",
    "enc_df = agg_df.copy()\n",
    "enc_df = pd.get_dummies(enc_df)\n",
    "enc_df.head()\n",
    "\n",
    "# Make columns binary (1,0)\n",
    "for i in enc_df.drop(columns = ['cost','invoice_date'], axis = 1).columns:\n",
    "enc_df[i] = np.where(enc_df[i] == True, 1,0)\n",
    "enc_df.head()\n",
    "\n",
    "\n",
    "\n"
   ]
  },
  {
   "cell_type": "code",
   "execution_count": 34,
   "id": "038cda5c-9c24-4370-8d95-aa27dfadca72",
   "metadata": {},
   "outputs": [],
   "source": [
    "# Save invoice_dates\n",
    "dates = enc_df['invoice_date']\n",
    "\n",
    "# Drop invoice date column\n",
    "enc_df.drop(labels = 'invoice_date', axis = 1, inplace = True)\n",
    "\n",
    "# Shuffle dataset \n",
    "enc_df = enc_df.sample(frac = 1, random_state = 24)"
   ]
  },
  {
   "cell_type": "code",
   "execution_count": 35,
   "id": "8889bdc1-fb2e-4e6d-af2b-6220a64877b5",
   "metadata": {},
   "outputs": [],
   "source": [
    "# Keep features with high importance\n",
    "enc_df = enc_df[['cost','greater_than', 'sku_description_Analysis', 'sku_description_Other']]"
   ]
  },
  {
   "cell_type": "markdown",
   "id": "485af961-e7b8-4e45-8269-9ee479ba8796",
   "metadata": {},
   "source": [
    "## Model Training"
   ]
  },
  {
   "cell_type": "code",
   "execution_count": 36,
   "id": "a9937dda-ab1e-4d13-8e85-318b494120aa",
   "metadata": {},
   "outputs": [],
   "source": [
    "tune_model = IsolationForest(contamination = 0.0005,n_estimators = 150,max_samples = 0.8, \n",
    "                             max_features = 0.8,random_state = 24)\n",
    "tune_model.fit(enc_df)\n",
    "labels = tune_model.predict(enc_df)\n",
    "prob_scores = abs(tune_model.score_samples(enc_df))"
   ]
  },
  {
   "cell_type": "code",
   "execution_count": 37,
   "id": "c7f98f8c-8beb-455a-9d78-84213b378fe6",
   "metadata": {},
   "outputs": [
    {
     "data": {
      "text/plain": [
       "label\n",
       " 1    0.999479\n",
       "-1    0.000521\n",
       "Name: proportion, dtype: float64"
      ]
     },
     "execution_count": 37,
     "metadata": {},
     "output_type": "execute_result"
    }
   ],
   "source": [
    "# Percentage of points classified as anomalous\n",
    "df_res = enc_df.copy()\n",
    "df_res['label'] = labels\n",
    "df_res['label'].value_counts(normalize = True)"
   ]
  },
  {
   "cell_type": "code",
   "execution_count": 38,
   "id": "a10e31bb-3be2-4d79-b14d-40abe2de1305",
   "metadata": {},
   "outputs": [
    {
     "name": "stdout",
     "output_type": "stream",
     "text": [
      "Average Confidence Score:  0.7713143413376942\n",
      "Max Confidence Score:  0.8968610659248781\n"
     ]
    }
   ],
   "source": [
    "# Average and max confidence score\n",
    "df_res['prob_score'] = prob_scores\n",
    "df_res['invoice_date'] = dates\n",
    "df_res = df_res.sort_values('invoice_date')\n",
    "anomalies = df_res[df_res['label'] == -1].reset_index(drop = True)\n",
    "print('Average Confidence Score: ',anomalies['prob_score'].mean())\n",
    "print('Max Confidence Score: ',max(anomalies['prob_score']))"
   ]
  },
  {
   "cell_type": "code",
   "execution_count": 41,
   "id": "d07f2ae0-daba-4095-80de-5b43ef1f70ff",
   "metadata": {
    "tags": []
   },
   "outputs": [],
   "source": [
    "# Create df to visualize results\n",
    "vis_df_agg = agg_df.copy()\n",
    "vis_df_agg['prob_score'] = df_res['prob_score']\n",
    "vis_df_agg['label'] = df_res['label']"
   ]
  },
  {
   "cell_type": "code",
   "execution_count": null,
   "id": "1a975c04-d4c8-45bd-bd33-2681c4595a2b",
   "metadata": {},
   "outputs": [],
   "source": [
    "# Upload to BQ\n",
    "vis_df_agg.to_gbq('ltaylor.vis_agg', \n",
    "                 project_id, \n",
    "                 chunksize=None, \n",
    "                 if_exists='replace')"
   ]
  }
 ],
 "metadata": {
  "environment": {
   "kernel": "python3",
   "name": "tf2-gpu.2-15.m123",
   "type": "gcloud",
   "uri": "us-docker.pkg.dev/deeplearning-platform-release/gcr.io/tf2-gpu.2-15:m123"
  },
  "kernelspec": {
   "display_name": "Python 3 (Local)",
   "language": "python",
   "name": "python3"
  },
  "language_info": {
   "codemirror_mode": {
    "name": "ipython",
    "version": 3
   },
   "file_extension": ".py",
   "mimetype": "text/x-python",
   "name": "python",
   "nbconvert_exporter": "python",
   "pygments_lexer": "ipython3",
   "version": "3.10.14"
  }
 },
 "nbformat": 4,
 "nbformat_minor": 5
}
